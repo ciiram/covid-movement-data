{
 "cells": [
  {
   "cell_type": "markdown",
   "metadata": {},
   "source": [
    "# Movement Range Maps\n",
    "This notebook describes the processing of movement data made available by the Humanitarian Data Exchange. The data includes movement changes measured by Facebook throughout March to August 2020 starting from a baseline in February. These data can provide useful insight into compliance to COVID-19 containment measures.\n",
    "\n",
    "\n",
    "## Data Description\n",
    "The location data from is obtained from Facebook users with care taken to ensure individual users are not identifiable. From these data we can compute the following metrics.\n",
    "\n",
    "1. Change in movement metric - Number of 600 meters by 600 meters tiles people are seen in within a day.\n",
    "2. Stay put metric - Percentage of people who are only observed in a single 600 meters by 600 meters tile\n",
    "\n",
    "## Data Download\n",
    "\n",
    "We obtain the data from https://data.humdata.org/dataset/movement-range-maps\n",
    "\n",
    "The data is contained in a zip file which contains a tab limited file with the data."
   ]
  },
  {
   "cell_type": "code",
   "execution_count": null,
   "metadata": {},
   "outputs": [],
   "source": [
    "import urllib.request\n",
    "import zipfile\n",
    "import datetime\n",
    "import pandas as pd\n",
    "import matplotlib.pyplot as plt\n",
    "import ipywidgets as widgets\n",
    "\n",
    "\n",
    "from IPython.display import display\n",
    "\n",
    "\n",
    "data_url = 'https://data.humdata.org/dataset/c3429f0e-651b-4788-bb2f-4adbf222c90e/resource/31ca909c-10d9-458a-8720-88b54b3e3627/download/movement-range-data-2020-08-25.zip'\n",
    "\n",
    "# download\n",
    "urllib.request.urlretrieve(data_url,\n",
    "                           'movement-range-data-2020-08-25.zip')\n",
    "\n",
    "# unzip\n",
    "with zipfile.ZipFile('movement-range-data-2020-08-25.zip', 'r') as zip_ref:\n",
    "    zip_ref.extractall('./')\n",
    "\n"
   ]
  },
  {
   "cell_type": "markdown",
   "metadata": {},
   "source": [
    "We now load the data using pandas and examine it"
   ]
  },
  {
   "cell_type": "code",
   "execution_count": null,
   "metadata": {},
   "outputs": [],
   "source": [
    "movement_data = pd.read_csv('movement-range-2020-08-25.txt', \n",
    "                             sep=\"\\t\", \n",
    "                             low_memory=False)"
   ]
  },
  {
   "cell_type": "code",
   "execution_count": null,
   "metadata": {},
   "outputs": [],
   "source": [
    "# explore the data\n",
    "movement_data.head()"
   ]
  },
  {
   "cell_type": "code",
   "execution_count": null,
   "metadata": {},
   "outputs": [],
   "source": [
    "# number of entries\n",
    "len(movement_data)"
   ]
  },
  {
   "cell_type": "markdown",
   "metadata": {},
   "source": [
    "The movement metrics are stored under the following columns\n",
    "1. Change of movement - 'all_day_bing_tiles_visited_relative_change'\n",
    "2. Stay put - 'all_day_ratio_single_tile_users'\n",
    "\n",
    "To obtain data from a given location, we filter the data using the `country` and `polygon_name` columns. "
   ]
  },
  {
   "cell_type": "code",
   "execution_count": null,
   "metadata": {},
   "outputs": [],
   "source": [
    "# choose a country\n",
    "countries = set(movement_data['country'])\n",
    "country_dd = widgets.Dropdown(\n",
    "                options=countries,\n",
    "                value='KEN',\n",
    "                description='Country:',\n",
    "                disabled=False,\n",
    "            )\n",
    "display(country_dd)"
   ]
  },
  {
   "cell_type": "code",
   "execution_count": null,
   "metadata": {},
   "outputs": [],
   "source": [
    "# choose a location\n",
    "country_data = movement_data[movement_data['country'] == country_dd.value]\n",
    "locations = set(country_data['polygon_name'])\n",
    "\n",
    "location_dd = widgets.Dropdown(\n",
    "                options=locations,\n",
    "                value=None,\n",
    "                description='Location:',\n",
    "                disabled=False,\n",
    "            )\n",
    "display(location_dd)"
   ]
  },
  {
   "cell_type": "markdown",
   "metadata": {},
   "source": [
    "## Display metrics for a given location\n",
    "The plot below shows both the change-of-movement and stay-put metrics. If the country is Kenya, we plot the following days as well\n",
    "1. First Case 13th March\n",
    "2. Cessation of movement on 6th April\n",
    "3. Easing of restrictions 6th July\n",
    "\n",
    "You can include relevant days from your country and plot again\n"
   ]
  },
  {
   "cell_type": "code",
   "execution_count": null,
   "metadata": {},
   "outputs": [],
   "source": [
    "# Get the data for the given location\n",
    "curr_df = country_data[country_data['polygon_name'] == location_dd.value]\n",
    "curr_df[['ds']] = curr_df[['ds']].apply(pd.to_datetime)\n",
    "\n",
    "#change of movement\n",
    "days = curr_df['ds']\n",
    "com = curr_df['all_day_bing_tiles_visited_relative_change']\n",
    "\n",
    "plt.figure()\n",
    "plt.plot(days, com);\n",
    "plt.grid(True)\n",
    "plt.title(location_dd.value, fontdict={'fontsize': 18});\n",
    "plt.ylabel('Change of Movement')\n",
    "\n",
    "if country_dd.value == 'KEN':\n",
    "    plt.vlines(datetime.datetime(2020,3,13), min(com), max(com) + .1,'m')\n",
    "    plt.vlines(datetime.datetime(2020,4,6), min(com), max(com) + .1,'r')\n",
    "    plt.vlines(datetime.datetime(2020,7,6), min(com), max(com) + .1,'g')\n",
    "\n",
    "# stay put index\n",
    "sp = curr_df['all_day_ratio_single_tile_users']\n",
    "plt.figure()\n",
    "plt.plot(days, sp);\n",
    "plt.grid(True)\n",
    "plt.title(location_dd.value, fontdict={'fontsize': 18});\n",
    "plt.ylabel('Stay Put Index');\n",
    "\n",
    "if country_dd.value == 'KEN':\n",
    "    plt.vlines(datetime.datetime(2020,3,13), min(sp), max(sp) + .1,'m')\n",
    "    plt.vlines(datetime.datetime(2020,4,6), min(sp), max(sp) + .1,'r')\n",
    "    plt.vlines(datetime.datetime(2020,7,6), min(sp), max(sp) + .1,'g')"
   ]
  },
  {
   "cell_type": "markdown",
   "metadata": {},
   "source": [
    "## Mapping\n",
    "To get a view of compliance to COVID-19 on a wider scale, we display the data on a map. For this, we will use the `geopandas` package."
   ]
  },
  {
   "cell_type": "code",
   "execution_count": null,
   "metadata": {},
   "outputs": [],
   "source": [
    "%pip install geopandas pygeos"
   ]
  },
  {
   "cell_type": "markdown",
   "metadata": {},
   "source": [
    "## Download Map Data\n",
    "The Humanitarian Data Exchange also contains data on administrative boundaries. Here we download the data for Kenya"
   ]
  },
  {
   "cell_type": "code",
   "execution_count": null,
   "metadata": {},
   "outputs": [],
   "source": [
    "ken_boundary_data_url = 'https://data.humdata.org/dataset/2c0b7571-4bef-4347-9b81-b2174c13f9ef/resource/9edf6440-339f-4eda-b395-33f7d69929d5/download/ken_adminboundaries_working.gdb.zip'\n",
    "\n",
    "# download\n",
    "urllib.request.urlretrieve(ken_boundary_data_url,\n",
    "                           'ken_adminboundaries_working.gdb.zip')\n",
    "\n",
    "# unzip\n",
    "with zipfile.ZipFile('ken_adminboundaries_working.gdb.zip', 'r') as zip_ref:\n",
    "    zip_ref.extractall('./')"
   ]
  },
  {
   "cell_type": "code",
   "execution_count": null,
   "metadata": {},
   "outputs": [],
   "source": [
    "# Display Kenyan Map From Geopandas\n",
    "import geopandas as gpd\n",
    "\n",
    "world = gpd.read_file(gpd.datasets.get_path('naturalearth_lowres'))\n",
    "world.crs = \"EPSG:4326\"\n",
    "kenya = world[(world['name'] == 'Kenya')]\n",
    "base = kenya.plot(color='white', edgecolor='black', alpha=0, figsize=(11, 11))"
   ]
  },
  {
   "cell_type": "code",
   "execution_count": null,
   "metadata": {},
   "outputs": [],
   "source": []
  }
 ],
 "metadata": {
  "kernelspec": {
   "display_name": "Python 3",
   "language": "python",
   "name": "python3"
  },
  "language_info": {
   "codemirror_mode": {
    "name": "ipython",
    "version": 3
   },
   "file_extension": ".py",
   "mimetype": "text/x-python",
   "name": "python",
   "nbconvert_exporter": "python",
   "pygments_lexer": "ipython3",
   "version": "3.7.3"
  }
 },
 "nbformat": 4,
 "nbformat_minor": 2
}
