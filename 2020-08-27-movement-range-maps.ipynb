{
 "cells": [
  {
   "cell_type": "markdown",
   "metadata": {},
   "source": [
    "# Movement Range Maps\n",
    "This notebook describes the processing of movement data made available by the Humanitarian Data Exchange. The data includes movement changes measured by Facebook throughout March to August 2020 starting from a baseline in February.\n",
    "\n",
    "\n",
    "## Data Description\n",
    "The location data from is obtained from Facebook users with care taken to ensure individual users are not identifiable. From these data we can compute the following metrics.\n",
    "\n",
    "1. Change in movement metric - Number of 600 meters by 600 meters tiles people are seen in within a day.\n",
    "2. Stay put metric - Percentage of people who are only observed in a single 600 meters by 600 meters tile\n",
    "\n",
    "## Data Download\n",
    "\n",
    "We obtain the data from https://data.humdata.org/dataset/movement-range-maps\n",
    "\n",
    "The data is contained in a zip file which contains a tab limited file with the data."
   ]
  },
  {
   "cell_type": "code",
   "execution_count": null,
   "metadata": {},
   "outputs": [],
   "source": [
    "import urllib.request\n",
    "import zipfile\n",
    "import pandas as pd\n",
    "\n",
    "data_url = 'https://data.humdata.org/dataset/c3429f0e-651b-4788-bb2f-4adbf222c90e/resource/31ca909c-10d9-458a-8720-88b54b3e3627/download/movement-range-data-2020-08-25.zip'\n",
    "\n",
    "# download\n",
    "urllib.request.urlretrieve(data_url,\n",
    "                           'movement-range-data-2020-08-25.zip')\n",
    "\n",
    "# unzip\n",
    "with zipfile.ZipFile('movement-range-data-2020-08-25.zip', 'r') as zip_ref:\n",
    "    zip_ref.extractall('./')\n",
    "\n"
   ]
  },
  {
   "cell_type": "markdown",
   "metadata": {},
   "source": [
    "We now load the data using pandas and examine it"
   ]
  },
  {
   "cell_type": "code",
   "execution_count": null,
   "metadata": {},
   "outputs": [],
   "source": [
    "movement_data = pd.read_csv('movement-range-2020-08-25.txt', \n",
    "                             sep=\"\\t\", \n",
    "                             low_memory=False)"
   ]
  },
  {
   "cell_type": "code",
   "execution_count": null,
   "metadata": {},
   "outputs": [],
   "source": [
    "# explore the data\n",
    "movement_data.head()"
   ]
  },
  {
   "cell_type": "code",
   "execution_count": null,
   "metadata": {},
   "outputs": [],
   "source": [
    "# number of entries\n",
    "len(movement_data)"
   ]
  },
  {
   "cell_type": "markdown",
   "metadata": {},
   "source": [
    "The movement metrics are stored under the following columns\n",
    "1. Change of movement - 'all_day_bing_tiles_visited_relative_change'\n",
    "2. Stay put - 'all_day_ratio_single_tile_users'\n",
    "\n",
    "To obtain data from a given location, we filter the data using the `country` and `polygon_name` columns. "
   ]
  },
  {
   "cell_type": "code",
   "execution_count": null,
   "metadata": {},
   "outputs": [],
   "source": []
  }
 ],
 "metadata": {
  "kernelspec": {
   "display_name": "Python 3",
   "language": "python",
   "name": "python3"
  },
  "language_info": {
   "codemirror_mode": {
    "name": "ipython",
    "version": 3
   },
   "file_extension": ".py",
   "mimetype": "text/x-python",
   "name": "python",
   "nbconvert_exporter": "python",
   "pygments_lexer": "ipython3",
   "version": "3.7.3"
  }
 },
 "nbformat": 4,
 "nbformat_minor": 2
}
